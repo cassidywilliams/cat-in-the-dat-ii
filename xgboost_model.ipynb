{
  "nbformat": 4,
  "nbformat_minor": 0,
  "metadata": {
    "kernelspec": {
      "name": "python3",
      "display_name": "Python 3"
    },
    "language_info": {
      "codemirror_mode": {
        "name": "ipython",
        "version": 3
      },
      "file_extension": ".py",
      "mimetype": "text/x-python",
      "name": "python",
      "nbconvert_exporter": "python",
      "pygments_lexer": "ipython3",
      "version": "3.7.3"
    },
    "colab": {
      "name": "cat_in_the_dat_2.ipynb",
      "provenance": [],
      "collapsed_sections": []
    },
    "accelerator": "GPU"
  },
  "cells": [
    {
      "cell_type": "markdown",
      "metadata": {
        "id": "0v8vmlgb_oRs",
        "colab_type": "text"
      },
      "source": [
        "This workbook contains the binary classification model that I built to submit to the Kaggle Cat in the Dat II challenge: https://www.kaggle.com/c/cat-in-the-dat-ii/leaderboard. The goal of this project is to accurately classify observations with only categorical features (some low and some high-cardinality). I used XGBoost along with various encoding methods to model this data. My final submission had a ROC AUC score of .78361."
      ]
    },
    {
      "cell_type": "code",
      "metadata": {
        "id": "B7j9qaMgnbfc",
        "colab_type": "code",
        "colab": {}
      },
      "source": [
        "import numpy as np\n",
        "import pandas as pd\n",
        "import xgboost as xgb\n",
        "from datetime import datetime\n",
        "from matplotlib import pyplot\n",
        "from sklearn.impute import SimpleImputer\n",
        "from sklearn.metrics import accuracy_score\n",
        "from sklearn.model_selection import cross_val_score, RandomizedSearchCV, StratifiedKFold, train_test_split\n",
        "from xgboost import plot_importance, XGBClassifier"
      ],
      "execution_count": 0,
      "outputs": []
    },
    {
      "cell_type": "code",
      "metadata": {
        "id": "ds6dU1ydoAxe",
        "colab_type": "code",
        "colab": {}
      },
      "source": [
        "from google.colab import drive \n",
        "drive.mount('/content/gdrive')"
      ],
      "execution_count": 0,
      "outputs": []
    },
    {
      "cell_type": "code",
      "metadata": {
        "id": "lXAfLgcboT4-",
        "colab_type": "code",
        "colab": {}
      },
      "source": [
        "train = pd.read_csv('/content/gdrive/My Drive/catdat/train.csv')\n",
        "test = pd.read_csv('/content/gdrive/My Drive/catdat/test.csv')"
      ],
      "execution_count": 0,
      "outputs": []
    },
    {
      "cell_type": "code",
      "metadata": {
        "id": "VVA1k6zenbfx",
        "colab_type": "code",
        "outputId": "99f29212-41c4-40ad-bf79-b5ef3bc9dac0",
        "colab": {
          "base_uri": "https://localhost:8080/",
          "height": 102
        }
      },
      "source": [
        "train.columns"
      ],
      "execution_count": 0,
      "outputs": [
        {
          "output_type": "execute_result",
          "data": {
            "text/plain": [
              "Index(['id', 'bin_0', 'bin_1', 'bin_2', 'bin_3', 'bin_4', 'nom_0', 'nom_1',\n",
              "       'nom_2', 'nom_3', 'nom_4', 'nom_5', 'nom_6', 'nom_7', 'nom_8', 'nom_9',\n",
              "       'ord_0', 'ord_1', 'ord_2', 'ord_3', 'ord_4', 'ord_5', 'day', 'month',\n",
              "       'target'],\n",
              "      dtype='object')"
            ]
          },
          "metadata": {
            "tags": []
          },
          "execution_count": 5
        }
      ]
    },
    {
      "cell_type": "code",
      "metadata": {
        "id": "CA8fkUXznbf8",
        "colab_type": "code",
        "outputId": "b9db9ad9-b38d-4da1-aa4c-bedeb219ebd7",
        "colab": {}
      },
      "source": [
        "train.head()"
      ],
      "execution_count": 0,
      "outputs": [
        {
          "output_type": "execute_result",
          "data": {
            "text/html": [
              "<div>\n",
              "<style scoped>\n",
              "    .dataframe tbody tr th:only-of-type {\n",
              "        vertical-align: middle;\n",
              "    }\n",
              "\n",
              "    .dataframe tbody tr th {\n",
              "        vertical-align: top;\n",
              "    }\n",
              "\n",
              "    .dataframe thead th {\n",
              "        text-align: right;\n",
              "    }\n",
              "</style>\n",
              "<table border=\"1\" class=\"dataframe\">\n",
              "  <thead>\n",
              "    <tr style=\"text-align: right;\">\n",
              "      <th></th>\n",
              "      <th>id</th>\n",
              "      <th>bin_0</th>\n",
              "      <th>bin_1</th>\n",
              "      <th>bin_2</th>\n",
              "      <th>bin_3</th>\n",
              "      <th>bin_4</th>\n",
              "      <th>nom_0</th>\n",
              "      <th>nom_1</th>\n",
              "      <th>nom_2</th>\n",
              "      <th>nom_3</th>\n",
              "      <th>...</th>\n",
              "      <th>nom_9</th>\n",
              "      <th>ord_0</th>\n",
              "      <th>ord_1</th>\n",
              "      <th>ord_2</th>\n",
              "      <th>ord_3</th>\n",
              "      <th>ord_4</th>\n",
              "      <th>ord_5</th>\n",
              "      <th>day</th>\n",
              "      <th>month</th>\n",
              "      <th>target</th>\n",
              "    </tr>\n",
              "  </thead>\n",
              "  <tbody>\n",
              "    <tr>\n",
              "      <th>0</th>\n",
              "      <td>0</td>\n",
              "      <td>0.0</td>\n",
              "      <td>0.0</td>\n",
              "      <td>0.0</td>\n",
              "      <td>F</td>\n",
              "      <td>N</td>\n",
              "      <td>Red</td>\n",
              "      <td>Trapezoid</td>\n",
              "      <td>Hamster</td>\n",
              "      <td>Russia</td>\n",
              "      <td>...</td>\n",
              "      <td>02e7c8990</td>\n",
              "      <td>3.0</td>\n",
              "      <td>Contributor</td>\n",
              "      <td>Hot</td>\n",
              "      <td>c</td>\n",
              "      <td>U</td>\n",
              "      <td>Pw</td>\n",
              "      <td>6.0</td>\n",
              "      <td>3.0</td>\n",
              "      <td>0</td>\n",
              "    </tr>\n",
              "    <tr>\n",
              "      <th>1</th>\n",
              "      <td>1</td>\n",
              "      <td>1.0</td>\n",
              "      <td>1.0</td>\n",
              "      <td>0.0</td>\n",
              "      <td>F</td>\n",
              "      <td>Y</td>\n",
              "      <td>Red</td>\n",
              "      <td>Star</td>\n",
              "      <td>Axolotl</td>\n",
              "      <td>NaN</td>\n",
              "      <td>...</td>\n",
              "      <td>f37df64af</td>\n",
              "      <td>3.0</td>\n",
              "      <td>Grandmaster</td>\n",
              "      <td>Warm</td>\n",
              "      <td>e</td>\n",
              "      <td>X</td>\n",
              "      <td>pE</td>\n",
              "      <td>7.0</td>\n",
              "      <td>7.0</td>\n",
              "      <td>0</td>\n",
              "    </tr>\n",
              "    <tr>\n",
              "      <th>2</th>\n",
              "      <td>2</td>\n",
              "      <td>0.0</td>\n",
              "      <td>1.0</td>\n",
              "      <td>0.0</td>\n",
              "      <td>F</td>\n",
              "      <td>N</td>\n",
              "      <td>Red</td>\n",
              "      <td>NaN</td>\n",
              "      <td>Hamster</td>\n",
              "      <td>Canada</td>\n",
              "      <td>...</td>\n",
              "      <td>NaN</td>\n",
              "      <td>3.0</td>\n",
              "      <td>NaN</td>\n",
              "      <td>Freezing</td>\n",
              "      <td>n</td>\n",
              "      <td>P</td>\n",
              "      <td>eN</td>\n",
              "      <td>5.0</td>\n",
              "      <td>9.0</td>\n",
              "      <td>0</td>\n",
              "    </tr>\n",
              "    <tr>\n",
              "      <th>3</th>\n",
              "      <td>3</td>\n",
              "      <td>NaN</td>\n",
              "      <td>0.0</td>\n",
              "      <td>0.0</td>\n",
              "      <td>F</td>\n",
              "      <td>N</td>\n",
              "      <td>Red</td>\n",
              "      <td>Circle</td>\n",
              "      <td>Hamster</td>\n",
              "      <td>Finland</td>\n",
              "      <td>...</td>\n",
              "      <td>f9d456e57</td>\n",
              "      <td>1.0</td>\n",
              "      <td>Novice</td>\n",
              "      <td>Lava Hot</td>\n",
              "      <td>a</td>\n",
              "      <td>C</td>\n",
              "      <td>NaN</td>\n",
              "      <td>3.0</td>\n",
              "      <td>3.0</td>\n",
              "      <td>0</td>\n",
              "    </tr>\n",
              "    <tr>\n",
              "      <th>4</th>\n",
              "      <td>4</td>\n",
              "      <td>0.0</td>\n",
              "      <td>NaN</td>\n",
              "      <td>0.0</td>\n",
              "      <td>T</td>\n",
              "      <td>N</td>\n",
              "      <td>Red</td>\n",
              "      <td>Triangle</td>\n",
              "      <td>Hamster</td>\n",
              "      <td>Costa Rica</td>\n",
              "      <td>...</td>\n",
              "      <td>c5361037c</td>\n",
              "      <td>3.0</td>\n",
              "      <td>Grandmaster</td>\n",
              "      <td>Cold</td>\n",
              "      <td>h</td>\n",
              "      <td>C</td>\n",
              "      <td>OZ</td>\n",
              "      <td>5.0</td>\n",
              "      <td>12.0</td>\n",
              "      <td>0</td>\n",
              "    </tr>\n",
              "  </tbody>\n",
              "</table>\n",
              "<p>5 rows × 25 columns</p>\n",
              "</div>"
            ],
            "text/plain": [
              "   id  bin_0  bin_1  bin_2 bin_3 bin_4 nom_0      nom_1    nom_2       nom_3  \\\n",
              "0   0    0.0    0.0    0.0     F     N   Red  Trapezoid  Hamster      Russia   \n",
              "1   1    1.0    1.0    0.0     F     Y   Red       Star  Axolotl         NaN   \n",
              "2   2    0.0    1.0    0.0     F     N   Red        NaN  Hamster      Canada   \n",
              "3   3    NaN    0.0    0.0     F     N   Red     Circle  Hamster     Finland   \n",
              "4   4    0.0    NaN    0.0     T     N   Red   Triangle  Hamster  Costa Rica   \n",
              "\n",
              "   ...      nom_9 ord_0        ord_1     ord_2 ord_3 ord_4  ord_5  day month  \\\n",
              "0  ...  02e7c8990   3.0  Contributor       Hot     c     U     Pw  6.0   3.0   \n",
              "1  ...  f37df64af   3.0  Grandmaster      Warm     e     X     pE  7.0   7.0   \n",
              "2  ...        NaN   3.0          NaN  Freezing     n     P     eN  5.0   9.0   \n",
              "3  ...  f9d456e57   1.0       Novice  Lava Hot     a     C    NaN  3.0   3.0   \n",
              "4  ...  c5361037c   3.0  Grandmaster      Cold     h     C     OZ  5.0  12.0   \n",
              "\n",
              "  target  \n",
              "0      0  \n",
              "1      0  \n",
              "2      0  \n",
              "3      0  \n",
              "4      0  \n",
              "\n",
              "[5 rows x 25 columns]"
            ]
          },
          "metadata": {
            "tags": []
          },
          "execution_count": 16
        }
      ]
    },
    {
      "cell_type": "markdown",
      "metadata": {
        "id": "xZDW1F6anbgE",
        "colab_type": "text"
      },
      "source": [
        "Encoding notes:\n",
        "- nom_0 - nom_4: one_hot\n",
        "- nom_5 - nom_9: try mean\n",
        "- ord_0: as-is\n",
        "- ord_1, ord_2: mapping dict\n",
        "- ord_3, ord_4: mean encoding\n",
        "- ord_5: split chars, unicode character\n"
      ]
    },
    {
      "cell_type": "code",
      "metadata": {
        "id": "L9CfrBEHnbgM",
        "colab_type": "code",
        "colab": {}
      },
      "source": [
        "def encoder(input_df, target, mean_encode_dicts=None):\n",
        "    \n",
        "    bin_cols = [col for col in input_df.columns if col[:3] == 'bin']\n",
        "    one_hot_cols = ['nom_0', 'nom_1', 'nom_2', 'nom_3', 'nom_4']\n",
        "    mean_encode_cols = ['nom_5', 'nom_6', 'nom_7', 'nom_8', 'nom_9', 'ord_3', 'ord_4']\n",
        "    \n",
        "    if not mean_encode_dicts:\n",
        "        mean_encode_dicts = {col: input_df.groupby(col)['target'].mean().to_dict() for col in mean_encode_cols}\n",
        "\n",
        "    ord_1_dict = {'Novice': 1,\n",
        "                  'Contributor': 2,\n",
        "                  'Expert': 3,\n",
        "                  'Master': 4,\n",
        "                  'Grandmaster': 5}\n",
        "\n",
        "    ord_2_dict = {'Freezing': 1, \n",
        "                  'Cold': 2, \n",
        "                  'Warm': 3, \n",
        "                  'Hot': 4,\n",
        "                  'Boiling Hot': 5,\n",
        "                  'Lava Hot': 6, }\n",
        "\n",
        "    dummies = pd.get_dummies(input_df[one_hot_cols])\n",
        "    try:\n",
        "        encoded_features = pd.concat([input_df[target], dummies], axis=1)\n",
        "        for col in mean_encode_cols:\n",
        "            encoded_features[col + '_encoded'] = input_df[col].map(mean_encode_dicts[col])        \n",
        "    except:\n",
        "        encoded_features = dummies\n",
        "        for col in mean_encode_cols:\n",
        "            encoded_features[col + '_encoded'] = input_df[col].map(mean_encoded_mapping_dicts[col])\n",
        "\n",
        "    encoded_features['ord_0'] = input_df['ord_0']       \n",
        "    encoded_features['ord_1_encoded'] = input_df['ord_1'].map(ord_1_dict)\n",
        "    encoded_features['ord_2_encoded'] = input_df['ord_2'].map(ord_2_dict)\n",
        "    encoded_features['ord5_1'] = input_df['ord_5'].apply(lambda x: ord(x[0]) if pd.notnull(x) else x)\n",
        "    encoded_features['ord5_2'] = input_df['ord_5'].apply(lambda x: ord(x[1]) if pd.notnull(x) else x)\n",
        "    \n",
        "    input_df['bin_3'] = input_df['bin_3'].apply(lambda x: 1 if x == 'T' else (0 if x == 'F' else None)).astype('bool')\n",
        "    input_df['bin_4'] = input_df['bin_4'].apply(lambda x: 1 if x == 'Y' else (0 if x == 'N' else None)).astype('bool')\n",
        "    \n",
        "    for b in bin_cols:\n",
        "        encoded_features[b] = input_df[b]\n",
        "    \n",
        "    encoded_features['day_sin'] =  np.sin(2*np.pi*input_df['day']/max(input_df['day']))\n",
        "    encoded_features['day_cos'] =  np.cos(2*np.pi*input_df['day']/max(input_df['day']))  \n",
        "    encoded_features['month_sin'] =  np.sin(2*np.pi*input_df['month']/max(input_df['month']))\n",
        "    encoded_features['month_cos'] =  np.cos(2*np.pi*input_df['month']/max(input_df['month']))\n",
        "    \n",
        "    return encoded_features, mean_encode_dicts, mean_encode_cols"
      ],
      "execution_count": 0,
      "outputs": []
    },
    {
      "cell_type": "code",
      "metadata": {
        "colab_type": "code",
        "id": "Iri-JFeRPmUZ",
        "colab": {}
      },
      "source": [
        "def mode_imputer(train_data, test_data):\n",
        "\n",
        "  for column in test_data.columns:\n",
        "      test_data[column].fillna(train_data[column].mode()[0], inplace=True)\n",
        "  \n",
        "  return test_data"
      ],
      "execution_count": 0,
      "outputs": []
    },
    {
      "cell_type": "code",
      "metadata": {
        "id": "Qf1ovTz2PniU",
        "colab_type": "code",
        "colab": {}
      },
      "source": [
        "def mean_imputer(train_data, test_data):\n",
        "  return test_data.fillna(train_data.mean())"
      ],
      "execution_count": 0,
      "outputs": []
    },
    {
      "cell_type": "code",
      "metadata": {
        "id": "77llDxeInbgR",
        "colab_type": "code",
        "colab": {}
      },
      "source": [
        "train_encoded, mean_encoded_mapping_dicts, mean_encode_cols = encoder(train, 'target')\n",
        "test_encoded, _ , _ = encoder(test, 'target', mean_encoded_mapping_dicts)"
      ],
      "execution_count": 0,
      "outputs": []
    },
    {
      "cell_type": "code",
      "metadata": {
        "id": "1EewEUgzBy3b",
        "colab_type": "code",
        "colab": {}
      },
      "source": [
        "X = train_encoded.loc[:, 'nom_0_Blue':]\n",
        "y = train_encoded['target']"
      ],
      "execution_count": 0,
      "outputs": []
    },
    {
      "cell_type": "code",
      "metadata": {
        "id": "Ndywe2NEnbgm",
        "colab_type": "code",
        "colab": {}
      },
      "source": [
        "model = XGBClassifier(learning_rate=0.1,\n",
        "                      n_estimators=450,\n",
        "                      objective='binary:logistic',\n",
        "                      silent=False,\n",
        "                      nthread=1,\n",
        "                      tree_method = \"gpu_hist\",\n",
        "                      subsample=0.6,\n",
        "                      min_child_weight=5,\n",
        "                      max_depth=3,\n",
        "                      gamma=2,\n",
        "                      colsample_bytree=0.9)\n",
        "\n",
        "kfold = StratifiedKFold(n_splits=5, random_state=7)\n",
        "\n",
        "# params = {'min_child_weight': [1, 5, 10],\n",
        "#         'gamma': [0, 0.25, 0.5, 1.0, 1.5, 2, 5],\n",
        "#         'subsample': [x/10 for x in range(5,11)],\n",
        "#         'colsample_bytree': [x/10 for x in range(5,15)],\n",
        "#         'max_depth': [3, 4, 5, 6, 7, 8, 9],\n",
        "#         'n_estimators': [x*100 for x in range(5, 11)],\n",
        "#         'learning_rate': [0.0001, 0.001, 0.01, 0.1],\n",
        "#         'scale_pos_weight': [i*5 for i in range(21)]\n",
        "#         }\n",
        "\n",
        "params = {'n_estimators': [i for i in range(300,825, 25)]}\n",
        "\n",
        "random_search = RandomizedSearchCV(model,\n",
        "                                   param_distributions=params,\n",
        "                                   n_iter=25,\n",
        "                                   scoring='roc_auc',\n",
        "                                   n_jobs=-1,\n",
        "                                   cv=kfold.split(X,y),\n",
        "                                   verbose=20,\n",
        "                                   random_state=1001,\n",
        "                                   )\n",
        "\n",
        "random_search.fit(X, y)\n",
        "print(random_search.best_params_)"
      ],
      "execution_count": 0,
      "outputs": []
    },
    {
      "cell_type": "code",
      "metadata": {
        "id": "C90Nh85s6r0a",
        "colab_type": "code",
        "outputId": "6c858d5c-f59b-4999-eacc-400303a45e47",
        "colab": {
          "base_uri": "https://localhost:8080/",
          "height": 323
        }
      },
      "source": [
        "model = XGBClassifier(learning_rate=0.1,\n",
        "                      n_estimators=475,\n",
        "                      objective='binary:logistic',\n",
        "                      silent=False,\n",
        "                      nthread=1,\n",
        "                      tree_method = \"gpu_hist\",\n",
        "                      subsample=0.6,\n",
        "                      min_child_weight=5,\n",
        "                      max_depth=3,\n",
        "                      gamma=2,\n",
        "                      colsample_bytree=0.9)\n",
        "\n",
        "\n",
        "kfold = StratifiedKFold(n_splits=5)\n",
        "results = cross_val_score(model, X, y,\n",
        "                          cv=kfold,\n",
        "                          scoring='roc_auc',\n",
        "                          verbose=10)\n",
        "print(\"AUC: %.4f%% (%.4f%%)\" % (results.mean(), results.std()))"
      ],
      "execution_count": 0,
      "outputs": [
        {
          "output_type": "stream",
          "text": [
            "[Parallel(n_jobs=1)]: Using backend SequentialBackend with 1 concurrent workers.\n"
          ],
          "name": "stderr"
        },
        {
          "output_type": "stream",
          "text": [
            "[CV]  ................................................................\n",
            "[CV] .................................... , score=0.796, total=   4.9s\n",
            "[CV]  ................................................................\n"
          ],
          "name": "stdout"
        },
        {
          "output_type": "stream",
          "text": [
            "[Parallel(n_jobs=1)]: Done   1 out of   1 | elapsed:    5.0s remaining:    0.0s\n"
          ],
          "name": "stderr"
        },
        {
          "output_type": "stream",
          "text": [
            "[CV] .................................... , score=0.797, total=   4.9s\n",
            "[CV]  ................................................................\n"
          ],
          "name": "stdout"
        },
        {
          "output_type": "stream",
          "text": [
            "[Parallel(n_jobs=1)]: Done   2 out of   2 | elapsed:   10.0s remaining:    0.0s\n"
          ],
          "name": "stderr"
        },
        {
          "output_type": "stream",
          "text": [
            "[CV] .................................... , score=0.797, total=   4.9s\n",
            "[CV]  ................................................................\n"
          ],
          "name": "stdout"
        },
        {
          "output_type": "stream",
          "text": [
            "[Parallel(n_jobs=1)]: Done   3 out of   3 | elapsed:   14.9s remaining:    0.0s\n"
          ],
          "name": "stderr"
        },
        {
          "output_type": "stream",
          "text": [
            "[CV] .................................... , score=0.797, total=   4.9s\n",
            "[CV]  ................................................................\n"
          ],
          "name": "stdout"
        },
        {
          "output_type": "stream",
          "text": [
            "[Parallel(n_jobs=1)]: Done   4 out of   4 | elapsed:   19.8s remaining:    0.0s\n"
          ],
          "name": "stderr"
        },
        {
          "output_type": "stream",
          "text": [
            "[CV] .................................... , score=0.796, total=   4.9s\n",
            "AUC: 0.7966% (0.0005%)\n"
          ],
          "name": "stdout"
        },
        {
          "output_type": "stream",
          "text": [
            "[Parallel(n_jobs=1)]: Done   5 out of   5 | elapsed:   24.8s remaining:    0.0s\n",
            "[Parallel(n_jobs=1)]: Done   5 out of   5 | elapsed:   24.8s finished\n"
          ],
          "name": "stderr"
        }
      ]
    },
    {
      "cell_type": "code",
      "metadata": {
        "id": "sXDydvCoNLwU",
        "colab_type": "code",
        "outputId": "1e58cb24-0d0d-41e9-837d-f0a4dcac137d",
        "colab": {
          "base_uri": "https://localhost:8080/",
          "height": 34
        }
      },
      "source": [
        "len(train_encoded)"
      ],
      "execution_count": 0,
      "outputs": [
        {
          "output_type": "execute_result",
          "data": {
            "text/plain": [
              "600000"
            ]
          },
          "metadata": {
            "tags": []
          },
          "execution_count": 44
        }
      ]
    },
    {
      "cell_type": "code",
      "metadata": {
        "id": "w8kih5LYD2eq",
        "colab_type": "code",
        "outputId": "1bc778c1-129f-4d57-f811-50ecd6e4f93b",
        "colab": {
          "base_uri": "https://localhost:8080/",
          "height": 136
        }
      },
      "source": [
        "model.fit(X,y)"
      ],
      "execution_count": 0,
      "outputs": [
        {
          "output_type": "execute_result",
          "data": {
            "text/plain": [
              "XGBClassifier(base_score=0.5, booster='gbtree', colsample_bylevel=1,\n",
              "              colsample_bynode=1, colsample_bytree=0.9, gamma=2,\n",
              "              learning_rate=0.1, max_delta_step=0, max_depth=3,\n",
              "              min_child_weight=5, missing=None, n_estimators=475, n_jobs=1,\n",
              "              nthread=1, objective='binary:logistic', random_state=0,\n",
              "              reg_alpha=0, reg_lambda=1, scale_pos_weight=1, seed=None,\n",
              "              silent=False, subsample=0.6, tree_method='gpu_hist', verbosity=1)"
            ]
          },
          "metadata": {
            "tags": []
          },
          "execution_count": 136
        }
      ]
    },
    {
      "cell_type": "code",
      "metadata": {
        "id": "QL85qq72_Upn",
        "colab_type": "code",
        "outputId": "c66e66ac-670c-474c-a037-5be37190999c",
        "colab": {
          "base_uri": "https://localhost:8080/",
          "height": 295
        }
      },
      "source": [
        "plot_importance(model)\n",
        "pyplot.show()"
      ],
      "execution_count": 0,
      "outputs": [
        {
          "output_type": "display_data",
          "data": {
            "image/png": "[encoded data removed]",
            "text/plain": [
              "<Figure size 432x288 with 1 Axes>"
            ]
          },
          "metadata": {
            "tags": []
          }
        }
      ]
    },
    {
      "cell_type": "code",
      "metadata": {
        "id": "AuTgPyQDG5cp",
        "colab_type": "code",
        "colab": {}
      },
      "source": [
        "X_test = test_encoded.loc[:, 'nom_0_Blue':]\n",
        "y_pred = model.predict_proba(X_test)"
      ],
      "execution_count": 0,
      "outputs": []
    },
    {
      "cell_type": "code",
      "metadata": {
        "id": "rxl6LgNIFpDP",
        "colab_type": "code",
        "colab": {}
      },
      "source": [
        "submission = pd.concat([test['id'], pd.Series([x[1] for x in y_pred])], axis=1)\n",
        "submission.columns = ['id', 'target']"
      ],
      "execution_count": 0,
      "outputs": []
    },
    {
      "cell_type": "code",
      "metadata": {
        "id": "xpxf2Z68GBJq",
        "colab_type": "code",
        "outputId": "8e18280a-d91b-45f0-878b-02360895d92f",
        "colab": {
          "base_uri": "https://localhost:8080/",
          "height": 34
        }
      },
      "source": [
        "date = datetime.now().strftime(\"%Y%m%d%H%M\")\n",
        "print(date)\n",
        "submission.to_csv('cat_dat_ii_submission_' + date + '.csv', index=False)"
      ],
      "execution_count": 0,
      "outputs": [
        {
          "output_type": "stream",
          "text": [
            "202003311923\n"
          ],
          "name": "stdout"
        }
      ]
    }
  ]
}